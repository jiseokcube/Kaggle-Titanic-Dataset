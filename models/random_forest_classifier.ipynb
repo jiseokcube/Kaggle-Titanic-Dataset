{
 "cells": [
  {
   "cell_type": "code",
   "execution_count": 1,
   "metadata": {},
   "outputs": [],
   "source": [
    "import numpy as np\n",
    "from sklearn.model_selection import StratifiedKFold, GridSearchCV\n",
    "from sklearn.neural_network import MLPClassifier\n",
    "from sklearn.preprocessing import StandardScaler\n",
    "from sklearn.pipeline import Pipeline\n",
    "\n",
    "# Load data into numpy array (numeric data only)\n",
    "sex = lambda x: 0.0 if x == b\"male\" else 1.0  # male = 0, female = 1\n",
    "embarked = lambda x: 0.0 if x == b'C' else 2.0 if x == b'Q' else 1.0 # C = 0, S = 1, Q = 2; fill missing embarked values with S\n",
    "data = np.genfromtxt(open(\"../data/train.csv\"), delimiter=',', skip_header=1, usecols=(1, 2, 5, 6, 7, 8, 10, 12), converters={5: sex, 12: embarked})\n",
    "\n",
    "# Fill missing age and fare (testing data only) values with averages for each class\n",
    "def fill_missing(data):\n",
    "    class1 = data[:, 0] == 1\n",
    "    class2 = data[:, 0] == 2\n",
    "    class3 = data[:, 0] == 3\n",
    "\n",
    "    avg_age1 = np.nanmean(data[class1, 2])\n",
    "    avg_age2 = np.nanmean(data[class2, 2])\n",
    "    avg_age3 = np.nanmean(data[class3, 2])\n",
    "    avg_fare1 = np.nanmean(data[class1, 5])\n",
    "    avg_fare2 = np.nanmean(data[class2, 5])\n",
    "    avg_fare3 = np.nanmean(data[class3, 5])\n",
    "\n",
    "    age_nans = np.isnan(data[:, 2])\n",
    "    fare_nans = np.isnan(data[:, 5])\n",
    "\n",
    "    data[age_nans & class1, 2] = avg_age1\n",
    "    data[age_nans & class2, 2] = avg_age2\n",
    "    data[age_nans & class3, 2] = avg_age3\n",
    "    data[fare_nans & class1, 5] = avg_fare1\n",
    "    data[fare_nans & class2, 5] = avg_fare2\n",
    "    data[fare_nans & class3, 5] = avg_fare3\n",
    "\n",
    "X = data[:, 1:]\n",
    "y = data[:, 0]\n",
    "fill_missing(X)\n",
    "\n",
    "# Perform kfold of 5 splits\n",
    "kf = StratifiedKFold(n_splits=5)"
   ]
  },
  {
   "cell_type": "code",
   "execution_count": 2,
   "metadata": {},
   "outputs": [
    {
     "name": "stdout",
     "output_type": "stream",
     "text": [
      "{'criterion': 'gini', 'max_depth': 10, 'max_features': 'sqrt', 'min_samples_leaf': 1, 'min_samples_split': 5, 'n_estimators': 9}\n"
     ]
    }
   ],
   "source": [
    "from sklearn.ensemble import RandomForestClassifier\n",
    "from sklearn.metrics import make_scorer, accuracy_score\n",
    "from sklearn.model_selection import GridSearchCV\n",
    "\n",
    "# Choose some parameter combinations to try\n",
    "parameters = {'n_estimators': [4, 6, 9], \n",
    "              'max_features': ['log2', 'sqrt','auto'], \n",
    "              'criterion': ['entropy', 'gini'],\n",
    "              'max_depth': [2, 3, 5, 10], \n",
    "              'min_samples_split': [2, 3, 5],\n",
    "              'min_samples_leaf': [1,5,8]\n",
    "             }\n",
    "\n",
    "# Type of scoring used to compare parameter combinations\n",
    "acc_scorer = make_scorer(accuracy_score)\n",
    "\n",
    "# Run the grid search\n",
    "clf = GridSearchCV(RandomForestClassifier(), parameters, scoring=acc_scorer, n_jobs=7, cv=kf)\n",
    "clf.fit(X, y)\n",
    "\n",
    "print(clf.best_params_)"
   ]
  },
  {
   "cell_type": "code",
   "execution_count": 3,
   "metadata": {},
   "outputs": [
    {
     "name": "stdout",
     "output_type": "stream",
     "text": [
      "tn, fp, fn, tp\n",
      "527 22 57 285\n",
      "0.9113355780022446\n"
     ]
    }
   ],
   "source": [
    "from sklearn.metrics import confusion_matrix\n",
    "\n",
    "predictions = clf.predict(X)\n",
    "tn, fp, fn, tp = confusion_matrix(y, predictions).ravel()\n",
    "print(\"tn, fp, fn, tp\")\n",
    "print(tn, fp, fn, tp)\n",
    "print(accuracy_score(y, predictions))"
   ]
  },
  {
   "cell_type": "code",
   "execution_count": null,
   "metadata": {},
   "outputs": [],
   "source": []
  }
 ],
 "metadata": {
  "kernelspec": {
   "display_name": "Python 3",
   "language": "python",
   "name": "python3"
  },
  "language_info": {
   "codemirror_mode": {
    "name": "ipython",
    "version": 3
   },
   "file_extension": ".py",
   "mimetype": "text/x-python",
   "name": "python",
   "nbconvert_exporter": "python",
   "pygments_lexer": "ipython3",
   "version": "3.6.5"
  }
 },
 "nbformat": 4,
 "nbformat_minor": 2
}
