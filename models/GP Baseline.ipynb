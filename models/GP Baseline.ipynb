{
 "cells": [
  {
   "cell_type": "markdown",
   "metadata": {},
   "source": [
    "Imports"
   ]
  },
  {
   "cell_type": "code",
   "execution_count": 1,
   "metadata": {},
   "outputs": [],
   "source": [
    "import random\n",
    "import operator\n",
    "\n",
    "import numpy as np\n",
    "import matplotlib.pyplot as plt\n",
    "\n",
    "from deap import algorithms\n",
    "from deap import base\n",
    "from deap import creator\n",
    "from deap import tools\n",
    "from deap import gp"
   ]
  },
  {
   "cell_type": "markdown",
   "metadata": {},
   "source": [
    "Create Classes"
   ]
  },
  {
   "cell_type": "code",
   "execution_count": 2,
   "metadata": {},
   "outputs": [],
   "source": [
    "creator.create(\"FitnessMin\", base.Fitness, weights=(-1.0,-1.0))\n",
    "creator.create(\"Individual\", gp.PrimitiveTree, fitness=creator.FitnessMin)"
   ]
  },
  {
   "cell_type": "markdown",
   "metadata": {},
   "source": [
    "Primitives and Toolbox"
   ]
  },
  {
   "cell_type": "code",
   "execution_count": 3,
   "metadata": {},
   "outputs": [],
   "source": [
    "random.seed(0)\n",
    "\n",
    "def identity(x):\n",
    "    return x\n",
    "\n",
    "pset = gp.PrimitiveSetTyped(\"MAIN\", in_types=[float, float, float, float, float, float, float], ret_type=bool)\n",
    "pset.addPrimitive(np.less, in_types=[float, float], ret_type=bool)\n",
    "pset.addPrimitive(np.greater, in_types=[float, float], ret_type=bool)\n",
    "pset.addPrimitive(np.equal, in_types=[float, float], ret_type=bool)\n",
    "pset.addPrimitive(np.logical_not, in_types=[bool], ret_type=bool)\n",
    "pset.addPrimitive(np.logical_and, in_types=[bool, bool], ret_type=bool)\n",
    "pset.addPrimitive(np.logical_or, in_types=[bool, bool], ret_type=bool)\n",
    "pset.addPrimitive(identity, in_types=[float], ret_type=float)\n",
    "pset.addEphemeralConstant(\"float_const\", ephemeral=lambda: random.randint(0, 100), ret_type=float)\n",
    "pset.addEphemeralConstant(\"bool_const\", ephemeral=lambda: random.randint(0, 1), ret_type=bool)\n",
    "\n",
    "pset.renameArguments(ARG0=\"Pclass\")\n",
    "pset.renameArguments(ARG1=\"Sex\")\n",
    "pset.renameArguments(ARG2=\"Age\")\n",
    "pset.renameArguments(ARG3=\"SibSp\")\n",
    "pset.renameArguments(ARG4=\"Parch\")\n",
    "pset.renameArguments(ARG5=\"Fare\")\n",
    "pset.renameArguments(ARG6=\"Embarked\")\n",
    "\n",
    "toolbox = base.Toolbox()\n",
    "toolbox.register(\"expr\", gp.genHalfAndHalf, pset=pset, min_=1, max_=2)\n",
    "toolbox.register(\"individual\", tools.initIterate, creator.Individual, toolbox.expr)\n",
    "toolbox.register(\"population\", tools.initRepeat, list, toolbox.individual)\n",
    "toolbox.register(\"compile\", gp.compile, pset=pset)"
   ]
  },
  {
   "cell_type": "markdown",
   "metadata": {},
   "source": [
    "Data"
   ]
  },
  {
   "cell_type": "code",
   "execution_count": null,
   "metadata": {},
   "outputs": [],
   "source": [
    "# Load data into numpy array (numeric data only)\n",
    "sex = lambda x: 0.0 if x == b\"male\" else 1.0  # male = 0, female = 1\n",
    "embarked = lambda x: 0.0 if x == b'C' else 2.0 if x == b'Q' else 1.0 # C = 0, S = 1, Q = 2; fill missing embarked values with S\n",
    "data = np.genfromtxt(open(\"../data/train.csv\"), delimiter=',', skip_header=1, usecols=(1, 2, 5, 6, 7, 8, 10, 12), converters={5: sex, 12: embarked})\n",
    "\n",
    "# Fill missing age and fare (testing data only) values with averages for each class\n",
    "def fill_missing(data):\n",
    "    class1 = data[:, 0] == 1\n",
    "    class2 = data[:, 0] == 2\n",
    "    class3 = data[:, 0] == 3\n",
    "\n",
    "    avg_age1 = np.nanmean(data[class1, 2])\n",
    "    avg_age2 = np.nanmean(data[class2, 2])\n",
    "    avg_age3 = np.nanmean(data[class3, 2])\n",
    "    avg_fare1 = np.nanmean(data[class1, 5])\n",
    "    avg_fare2 = np.nanmean(data[class2, 5])\n",
    "    avg_fare3 = np.nanmean(data[class3, 5])\n",
    "\n",
    "    age_nans = np.isnan(data[:, 2])\n",
    "    fare_nans = np.isnan(data[:, 5])\n",
    "\n",
    "    data[age_nans & class1, 2] = avg_age1\n",
    "    data[age_nans & class2, 2] = avg_age2\n",
    "    data[age_nans & class3, 2] = avg_age3\n",
    "    data[fare_nans & class1, 5] = avg_fare1\n",
    "    data[fare_nans & class2, 5] = avg_fare2\n",
    "    data[fare_nans & class3, 5] = avg_fare3\n",
    "\n",
    "X = data[:, 1:]\n",
    "y = data[:, 0]\n",
    "fill_missing(X)"
   ]
  },
  {
   "cell_type": "markdown",
   "metadata": {},
   "source": [
    "Evaluation Function"
   ]
  },
  {
   "cell_type": "code",
   "execution_count": null,
   "metadata": {},
   "outputs": [],
   "source": [
    "def evalClassif(individual, examples, labels, pset):\n",
    "    func = gp.compile(expr=individual, pset=pset)\n",
    "    preds = func(*examples.T)\n",
    "\n",
    "    return (np.sum((preds == 1) & (labels == 0)), np.sum((preds == 0) & (labels == 1)))\n",
    "\n",
    "toolbox.register(\"evaluate\", evalClassif, examples=X, labels=y, pset=pset)\n",
    "toolbox.register(\"select\", tools.selTournament, tournsize=3)\n",
    "toolbox.register(\"mate\", gp.cxOnePoint)\n",
    "toolbox.register(\"expr_mut\", gp.genFull, min_=0, max_=2)\n",
    "toolbox.register(\"mutate\", gp.mutUniform, expr=toolbox.expr_mut, pset=pset)\n",
    "\n",
    "toolbox.decorate(\"mate\", gp.staticLimit(key=operator.attrgetter(\"height\"), max_value=17))\n",
    "toolbox.decorate(\"mutate\", gp.staticLimit(key=operator.attrgetter(\"height\"), max_value=17))"
   ]
  },
  {
   "cell_type": "markdown",
   "metadata": {},
   "source": [
    "Main Algorithm"
   ]
  },
  {
   "cell_type": "code",
   "execution_count": null,
   "metadata": {
    "scrolled": true
   },
   "outputs": [
    {
     "name": "stdout",
     "output_type": "stream",
     "text": [
      "gen\tnevals\tavg              \tstd                        \tmin    \tmax        \n",
      "0  \t500   \t[218.846 205.29 ]\t[253.4849942  152.25367615]\t[0. 0.]\t[549. 342.]\n",
      "1  \t689   \t[ 31.754 320.89 ]\t[114.35464785  67.64618171]\t[0. 0.]\t[549. 342.]\n",
      "2  \t697   \t[  0.856 340.578]\t[15.61048571 10.34658958]  \t[  0. 179.]\t[347. 342.]\n",
      "3  \t698   \t[1.24000e-01 3.40788e+02]\t[1.8784632  3.78510977]    \t[  0. 280.]\t[ 39. 342.]\n",
      "4  \t715   \t[7.8000e-02 3.4019e+02]  \t[1.74238802 3.1083597 ]    \t[  0. 280.]\t[ 39. 342.]\n",
      "5  \t694   \t[  0.864 339.308]        \t[18.36947207  6.27225127]  \t[  0. 235.]\t[411. 342.]\n"
     ]
    }
   ],
   "source": [
    "NGEN = 250\n",
    "MU = 500\n",
    "LAMBDA = 1000\n",
    "CXPB = 0.2\n",
    "MUTPB = 0.5\n",
    "\n",
    "class ParetoFrontAUC(tools.ParetoFront):\n",
    "    def __init__(self):\n",
    "        super().__init__()\n",
    "        self.aucs = []\n",
    "    \n",
    "    def update(self, pop):\n",
    "        super().update(pop)\n",
    "        fitness_1 = [ind.fitness.values[0] for ind in self]\n",
    "        fitness_2 = [ind.fitness.values[1] for ind in self]\n",
    "        auc = np.sum(np.abs(np.diff(fitness_1))*fitness_2[:-1])\n",
    "        self.aucs.append(auc)\n",
    "\n",
    "pop = toolbox.population(n=MU)\n",
    "hof = ParetoFrontAUC()\n",
    "stats = tools.Statistics(lambda ind: ind.fitness.values)\n",
    "stats.register(\"avg\", np.mean, axis=0)\n",
    "stats.register(\"std\", np.std, axis=0)\n",
    "stats.register(\"min\", np.min, axis=0)\n",
    "stats.register(\"max\", np.max, axis=0)\n",
    "\n",
    "pop, logbook = algorithms.eaMuPlusLambda(pop, toolbox, MU, LAMBDA, CXPB, MUTPB, NGEN, stats,\n",
    "                          halloffame=hof)"
   ]
  },
  {
   "cell_type": "markdown",
   "metadata": {},
   "source": [
    "Plots"
   ]
  },
  {
   "cell_type": "code",
   "execution_count": null,
   "metadata": {
    "scrolled": true
   },
   "outputs": [],
   "source": [
    "print(\"Best individual is: %s\\nwith fitness: %s\" % (hof[0], hof[0].fitness))\n",
    "gen, avg, min_, max_ = logbook.select(\"gen\", \"avg\", \"min\", \"max\")\n",
    "plt.plot(gen, avg, label=\"average\")\n",
    "plt.plot(gen, min_, label=\"minimum\")\n",
    "plt.xlabel(\"Generation\")\n",
    "plt.ylabel(\"Fitness\")\n",
    "plt.legend(loc=\"upper left\")\n",
    "plt.show()"
   ]
  },
  {
   "cell_type": "markdown",
   "metadata": {},
   "source": [
    "AUC Graph"
   ]
  },
  {
   "cell_type": "code",
   "execution_count": null,
   "metadata": {},
   "outputs": [],
   "source": [
    "gen = logbook.select(\"gen\")\n",
    "plt.plot(gen, hof.aucs)\n",
    "plt.xlabel(\"Generation\")\n",
    "plt.ylabel(\"AUC\")\n",
    "plt.title(\"Praeto Front Progression\")\n",
    "plt.show()"
   ]
  },
  {
   "cell_type": "markdown",
   "metadata": {},
   "source": [
    "Praeto Front"
   ]
  },
  {
   "cell_type": "code",
   "execution_count": null,
   "metadata": {},
   "outputs": [],
   "source": [
    "\"\"\"Split fitness values into separate lists\"\"\"\n",
    "fitness_1 = [ind.fitness.values[0] for ind in hof]\n",
    "fitness_2 = [ind.fitness.values[1] for ind in hof]\n",
    "pop_1 = [ind.fitness.values[0] for ind in pop]\n",
    "pop_2 = [ind.fitness.values[1] for ind in pop]\n",
    "\n",
    "'''Print dominated population for debugging'''\n",
    "# for ind in pop:\n",
    "#     print(ind.fitness)\n",
    "\n",
    "plt.scatter(pop_1, pop_2, color='b')\n",
    "plt.scatter(fitness_1, fitness_2, color='r')\n",
    "plt.plot(fitness_1, fitness_2, color='r', drawstyle='steps-post')\n",
    "plt.xlabel(\"False Negatives\")\n",
    "plt.ylabel(\"False Positives\")\n",
    "plt.title(\"Pareto Front\")\n",
    "plt.show()\n",
    "\n",
    "f1 = np.array(fitness_1)\n",
    "f2 = np.array(fitness_2)\n",
    "\n",
    "\"\"\"Calculate area under curve with least squares method\"\"\"\n",
    "print(\"Area Under Curve: %s\" % (np.sum(np.abs(np.diff(f1))*f2[:-1])))"
   ]
  },
  {
   "cell_type": "code",
   "execution_count": null,
   "metadata": {},
   "outputs": [],
   "source": []
  }
 ],
 "metadata": {
  "kernelspec": {
   "display_name": "Python 3",
   "language": "python",
   "name": "python3"
  },
  "language_info": {
   "codemirror_mode": {
    "name": "ipython",
    "version": 3
   },
   "file_extension": ".py",
   "mimetype": "text/x-python",
   "name": "python",
   "nbconvert_exporter": "python",
   "pygments_lexer": "ipython3",
   "version": "3.6.6"
  }
 },
 "nbformat": 4,
 "nbformat_minor": 2
}
